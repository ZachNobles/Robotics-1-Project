{
 "cells": [
  {
   "cell_type": "code",
   "execution_count": null,
   "metadata": {
    "vscode": {
     "languageId": "plaintext"
    }
   },
   "outputs": [],
   "source": [
    "import time\n",
    "from Arm_Lib import Arm_Device\n",
    "\n",
    "arm = Arm_Device()\n",
    "bypass = False\n",
    "J6 = 0\n",
    "arm.Arm_RGB_set(255, 255, 255)\n",
    "time.sleep(.5)\n",
    "arm.Arm_RGB_set(0,0, 0)\n",
    "time.sleep(.5)\n",
    "arm.Arm_RGB_set(255, 255, 255)\n",
    "time.sleep(.5)\n",
    "arm.Arm_RGB_set(0,0, 0)\n",
    "time.sleep(.5)\n",
    "arm.Arm_RGB_set(255, 255, 255)\n",
    "time.sleep(1)"
   ]
  },
  {
   "cell_type": "code",
   "execution_count": null,
   "metadata": {
    "vscode": {
     "languageId": "plaintext"
    }
   },
   "outputs": [],
   "source": [
    "import numpy as np\n",
    "from scipy.spatial.transform import Rotation as R\n",
    "\n",
    "def rotx(theta):\n",
    "    return R.from_euler('x', theta, degrees=True).as_matrix()\n",
    "\n",
    "def roty(theta):\n",
    "    return R.from_euler('y', theta, degrees=True).as_matrix()\n",
    "\n",
    "def rotz(theta):\n",
    "    return R.from_euler('z', theta, degrees=True).as_matrix()\n",
    "\n",
    "def fwdkin_Dofbot(q):\n",
    "    ex = np.array([1, 0, 0])\n",
    "    ey = np.array([0, 1, 0])\n",
    "    ez = np.array([0, 0, 1])\n",
    "\n",
    "    l0 = 0.061  # base to servo 1\n",
    "    l1 = 0.0435  # servo 1 to servo 2\n",
    "    l2 = 0.08285  # servo 2 to servo 3\n",
    "    l3 = 0.08285  # servo 3 to servo 4\n",
    "    l4 = 0.07385  # servo 4 to servo 5\n",
    "    l5 = 0.05457  # servo 5 to gripper\n",
    "\n",
    "    R01 = rotz(q[0])  # rotation between base frame and 1 frame\n",
    "    R12 = roty(-q[1])  # rotation between 1 and 2 frames\n",
    "    R23 = roty(-q[2])  # rotation between 2 and 3 frames\n",
    "    R34 = roty(-q[3])  # rotation between 3 and 4 frames\n",
    "    R45 = rotx(-q[4])  # rotation between 4 and 5 frames\n",
    "    R5T = roty(0)  # the tool frame is defined to be the same as frame 5\n",
    "\n",
    "    # Set up the position vectors between subsequent frames\n",
    "    P01 = (l0 + l1) * ez  # translation between base frame and 1 frame in base frame\n",
    "    P12 = np.zeros(3)  # translation between 1 and 2 frame in 1 frame\n",
    "    P23 = l2 * ex  # translation between 2 and 3 frame in 2 frame\n",
    "    P34 = -l3 * ez  # translation between 3 and 4 frame in 3 frame\n",
    "    P45 = np.zeros(3)  # translation between 4 and 5 frame in 4 frame\n",
    "    P5T = -(l4 + l5) * ex  # translation between 5 and tool frame in 5 frame\n",
    "\n",
    "    # Calculate Rot and Pot\n",
    "    # Rot is a sequence of rotations\n",
    "    Rot = R01 @ R12 @ R23 @ R34 @ R45 @ R5T  # Use @ for matrix multiplication\n",
    "    # Pot is a combination of the position vectors.\n",
    "    Pot = P01 + R01 @ (P12 + R12 @ (P23 + R23 @ (P34 + R34 @ (P45 + R45 @ P5T))))\n",
    "\n",
    "    return Rot, Pot\n",
    "\n",
    "def rotm2eul(R):\n",
    "    if R.shape != (3, 3):\n",
    "        raise ValueError(\"Input must be a 3x3 rotation matrix.\")\n",
    "\n",
    "    sy = np.sqrt(R[0, 0] * R[0, 0] + R[1, 0] * R[1, 0])\n",
    "\n",
    "    singular = sy < 1e-6  # Check for singularity\n",
    "    if not singular:\n",
    "        x = np.arctan2(R[2, 1], R[2, 2])\n",
    "        y = np.arctan2(-R[2, 0], sy)\n",
    "        z = np.arctan2(R[1, 0], R[0, 0])\n",
    "    else:\n",
    "        x = np.arctan2(-R[1, 2], R[1, 1])\n",
    "        y = np.arctan2(-R[2, 0], sy)\n",
    "        z = 0\n",
    "\n",
    "    return np.array([x, y, z])\n",
    "\n",
    "def wrap_to_180(angle):\n",
    "    return (angle + 180) % 360 - 180\n",
    "\n",
    "\n",
    "\n",
    "arm.Arm_RGB_set(0, 255, 255)\n",
    "\n",
    "# Initial joint configuration in degrees\n",
    "qstart = np.array([150, 45, 45, 45, 90])\n",
    "# Final joint configuration in degrees\n",
    "qend = np.array([30, 60, 45, 135, 90])\n",
    "\n",
    "N = 250  # Number of sample points along the path\n",
    "lambda_vals = np.linspace(0, 1, N)  # Path variable from 0 to 1\n",
    "\n",
    "# Pre-allocate space for variables\n",
    "q = np.zeros((5, N))  # q(lambda)\n",
    "qset = list()\n",
    "Rot = np.zeros((3, 3, N))  # Rot(lambda)\n",
    "eulerot = np.zeros((3, N))  # Rot as Euler angles\n",
    "Pot = np.zeros((3, N))  # Pot(lambda)\n",
    "\n",
    "for ii in range(N):\n",
    "    q[:, ii] = (1 - lambda_vals[ii]) * qstart + lambda_vals[ii] * qend  # Create q(lambda)\n",
    "    Rot[:, :, ii], Pot[:, ii] = fwdkin_Dofbot(q[:, ii])\n",
    "    eulerot[:, ii] = wrap_to_180(rotm2eul(Rot[:, :, ii]) * 180 / np.pi)  # Convert to degrees\n",
    "\n",
    "# Print the joint positions\n",
    "for i in range(N):\n",
    "    qcurrent=[round(angle) for angle in q[:, i]]\n",
    "    #print(f'λ={lambda_vals[i]:.3f}, q={qcurrent}')\n",
    "    qset.append(qcurrent)\n",
    "\n",
    "\n",
    "# remove duplicates so the motion is smooth\n",
    "qset = [arr for i, arr in enumerate(qset) if arr not in qset[:i]]\n",
    "\n",
    "print(f\"{N} points generated, {len(qset)} unique configurations in path.\")"
   ]
  },
  {
   "cell_type": "code",
   "execution_count": null,
   "metadata": {
    "vscode": {
     "languageId": "plaintext"
    }
   },
   "outputs": [],
   "source": [
    "def correct_angle(angle, theoretical):\n",
    "    if angle is not None:\n",
    "        return angle\n",
    "    \n",
    "    if theoretical < 2:\n",
    "        return 0\n",
    "    if theoretical > 178:\n",
    "        return 180\n",
    "    else:\n",
    "        return \"err\""
   ]
  },
  {
   "cell_type": "code",
   "execution_count": null,
   "metadata": {
    "vscode": {
     "languageId": "plaintext"
    }
   },
   "outputs": [],
   "source": [
    "arm.Arm_serial_servo_write6(*(qset[0]), J6, 1000)\n",
    "time.sleep(1)\n",
    "arm.Arm_RGB_set(0, 255, 0)"
   ]
  },
  {
   "cell_type": "code",
   "execution_count": null,
   "metadata": {
    "vscode": {
     "languageId": "plaintext"
    }
   },
   "outputs": [],
   "source": [
    "output = open(\"data.csv\", mode='w')\n",
    "output.write(\"λ,qdesired(λ),q(λ)\\n\")\n",
    "\n",
    "for i, joint_set in enumerate(qset):\n",
    "    arm.Arm_serial_servo_write6(*joint_set, J6, 0)\n",
    "    #time.sleep(.1)\n",
    "    q_actual = [arm.Arm_serial_servo_read(j) for j in range(1,6)]\n",
    "    q_actual[0] = arm.Arm_serial_servo_read(1)\n",
    "    q_actual = [correct_angle(angle, joint_set[j]) for j, angle in enumerate(q_actual)]\n",
    "    print(q_actual)\n",
    "    output.write(f\"{((i+1) / len(qset)):.3f},\\\"{[int(angle) for angle in joint_set]}\\\",\\\"{q_actual}\\\"\\n\")\n",
    "    time.sleep(.1)\n",
    "\n",
    "output.close()\n",
    "arm.Arm_RGB_set(255, 255, 255)"
   ]
  }
 ],
 "metadata": {
  "language_info": {
   "name": "python"
  }
 },
 "nbformat": 4,
 "nbformat_minor": 2
}
