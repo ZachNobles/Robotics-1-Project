{
 "cells": [
  {
   "cell_type": "code",
   "execution_count": 1,
   "metadata": {},
   "outputs": [],
   "source": [
    "%load_ext autoreload\n",
    "%autoreload 2"
   ]
  },
  {
   "cell_type": "code",
   "execution_count": 2,
   "metadata": {
    "tags": []
   },
   "outputs": [
    {
     "ename": "ModuleNotFoundError",
     "evalue": "No module named 'Arm_Lib'",
     "output_type": "error",
     "traceback": [
      "\u001b[1;31m---------------------------------------------------------------------------\u001b[0m",
      "\u001b[1;31mModuleNotFoundError\u001b[0m                       Traceback (most recent call last)",
      "Cell \u001b[1;32mIn[2], line 5\u001b[0m\n\u001b[0;32m      2\u001b[0m \u001b[38;5;28;01mimport\u001b[39;00m \u001b[38;5;21;01mnumpy\u001b[39;00m \u001b[38;5;28;01mas\u001b[39;00m \u001b[38;5;21;01mnp\u001b[39;00m\n\u001b[0;32m      4\u001b[0m \u001b[38;5;28;01mimport\u001b[39;00m \u001b[38;5;21;01mtime\u001b[39;00m\n\u001b[1;32m----> 5\u001b[0m \u001b[38;5;28;01mfrom\u001b[39;00m \u001b[38;5;21;01mArm_Lib\u001b[39;00m \u001b[38;5;28;01mimport\u001b[39;00m Arm_Device\n\u001b[0;32m      7\u001b[0m \u001b[38;5;28;01mdef\u001b[39;00m \u001b[38;5;21mget_inputs\u001b[39m():\n\u001b[0;32m      8\u001b[0m     \u001b[38;5;28;01mglobal\u001b[39;00m bypass\n",
      "\u001b[1;31mModuleNotFoundError\u001b[0m: No module named 'Arm_Lib'"
     ]
    }
   ],
   "source": [
    "from ForwardKinematics import runFK\n",
    "import numpy as np\n",
    "\n",
    "import time\n",
    "from Arm_Lib import Arm_Device\n",
    "\n",
    "def get_inputs():\n",
    "    global bypass\n",
    "    bypass = False\n",
    "    while True:\n",
    "        user_input = input(\"Please enter 5 integers separated by spaces: \")\n",
    "        if user_input == \"up\":\n",
    "            return [90, 90, 90, 90, 90]\n",
    "        elif user_input == \"staircase\":\n",
    "            return [90, 0, 180, 0, 90]\n",
    "        elif user_input == \"out\":\n",
    "            return [90, 0, 90, 90, 90]\n",
    "        elif user_input == \"buzzer\":\n",
    "            arm.Arm_Buzzer_On(5)\n",
    "            bypass = True\n",
    "            return qlast\n",
    "        elif user_input == \"read\":\n",
    "            print(\"measured angles: [{}, {}, {}, {}, {}]\".format(\n",
    "            arm.Arm_serial_servo_read(1),\n",
    "            arm.Arm_serial_servo_read(2),\n",
    "            arm.Arm_serial_servo_read(3), \n",
    "            arm.Arm_serial_servo_read(4), \n",
    "            arm.Arm_serial_servo_read(5) ))\n",
    "            bypass = True\n",
    "            return qlast\n",
    "         \n",
    "        \n",
    "        try:\n",
    "            # Split the input string into a list and convert each element to an integer\n",
    "            integer_array = list(map(int, user_input.split()))\n",
    "            \n",
    "            # Check if the length of the array is 5\n",
    "            if len(integer_array) == 5:\n",
    "                return integer_array\n",
    "            else:\n",
    "                print(\"Error: You must enter exactly 5 integers.\")\n",
    "        except ValueError:\n",
    "            print(\"Error: Please enter only integers.\")\n",
    "     \n",
    "    \n",
    "arm = Arm_Device()\n",
    "qlast = None\n",
    "bypass = False\n",
    "time.sleep(1)\n",
    "            \n",
    "while True:\n",
    "    arm.Arm_RGB_set(0, 255, 0)\n",
    "    q_input = get_inputs()\n",
    "    q = np.array([q_input]).T\n",
    "    if bypass:\n",
    "        continue\n",
    "    \n",
    "    if runFK(q):\n",
    "        print(\"\\nmoving to \", [int(\"\".join([str(angle) for angle in arr])) for arr in q])\n",
    "        arm.Arm_RGB_set(255, 0, 0)\n",
    "        arm.Arm_serial_servo_write6(*q, 0, 1000)\n",
    "        time.sleep(1.5)\n",
    "        qlast = q"
   ]
  }
 ],
 "metadata": {
  "kernelspec": {
   "display_name": "Python 3 (ipykernel)",
   "language": "python",
   "name": "python3"
  },
  "language_info": {
   "codemirror_mode": {
    "name": "ipython",
    "version": 3
   },
   "file_extension": ".py",
   "mimetype": "text/x-python",
   "name": "python",
   "nbconvert_exporter": "python",
   "pygments_lexer": "ipython3",
   "version": "3.11.4"
  }
 },
 "nbformat": 4,
 "nbformat_minor": 4
}
