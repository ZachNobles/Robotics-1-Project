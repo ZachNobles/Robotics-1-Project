{
 "cells": [
  {
   "cell_type": "code",
   "execution_count": null,
   "id": "8c0aa745-343e-4682-ba13-a944d4b49f93",
   "metadata": {
    "tags": []
   },
   "outputs": [],
   "source": [
    "%load_ext autoreload\n",
    "%autoreload 2"
   ]
  },
  {
   "cell_type": "code",
   "execution_count": 4,
   "id": "d354e8d3-82bf-4ebd-8243-0a4eee76bf23",
   "metadata": {
    "tags": []
   },
   "outputs": [
    {
     "ename": "ModuleNotFoundError",
     "evalue": "No module named 'Arm_Lib'",
     "output_type": "error",
     "traceback": [
      "\u001b[1;31m---------------------------------------------------------------------------\u001b[0m",
      "\u001b[1;31mModuleNotFoundError\u001b[0m                       Traceback (most recent call last)",
      "Cell \u001b[1;32mIn[4], line 5\u001b[0m\n\u001b[0;32m      2\u001b[0m \u001b[38;5;28;01mimport\u001b[39;00m \u001b[38;5;21;01mnumpy\u001b[39;00m \u001b[38;5;28;01mas\u001b[39;00m \u001b[38;5;21;01mnp\u001b[39;00m\n\u001b[0;32m      4\u001b[0m \u001b[38;5;28;01mimport\u001b[39;00m \u001b[38;5;21;01mtime\u001b[39;00m\n\u001b[1;32m----> 5\u001b[0m \u001b[38;5;28;01mfrom\u001b[39;00m \u001b[38;5;21;01mArm_Lib\u001b[39;00m \u001b[38;5;28;01mimport\u001b[39;00m Arm_Device\n\u001b[0;32m      8\u001b[0m \u001b[38;5;66;03m# joint angle array\u001b[39;00m\n\u001b[0;32m      9\u001b[0m q \u001b[38;5;241m=\u001b[39m np\u001b[38;5;241m.\u001b[39marray([[\u001b[38;5;241m15\u001b[39m, \u001b[38;5;241m45\u001b[39m, \u001b[38;5;241m135\u001b[39m, \u001b[38;5;241m45\u001b[39m, \u001b[38;5;241m135\u001b[39m]])\u001b[38;5;241m.\u001b[39mT\n",
      "\u001b[1;31mModuleNotFoundError\u001b[0m: No module named 'Arm_Lib'"
     ]
    }
   ],
   "source": [
    "from ForwardKinematics import testFK\n",
    "import numpy as np\n",
    "\n",
    "import time\n",
    "from Arm_Lib import Arm_Device\n",
    "\n",
    "\n",
    "# joint angle array\n",
    "q = np.array([[15, 45, 135, 45, 135]]).T\n",
    "run_on_arm = False # whether to just print or also command the arm\n",
    "\n",
    "# run test\n",
    "testFK(q)\n",
    "\n",
    "if run_on_arm:\n",
    "    arm = Arm_Device()\n",
    "    print(\"\\nmoving arm\")\n",
    "    time.sleep(1)\n",
    "    \n",
    "    Arm.Arm_RGB_set(255, 0, 0)\n",
    "    Arm.Arm_serial_servo_write6(*q, 90, 500)\n",
    "    Arm.Arm_RGB_set(0, 255, 0)\n",
    "    \n",
    "    "
   ]
  },
  {
   "cell_type": "code",
   "execution_count": null,
   "id": "34a82038-7bbd-4f88-bfbf-94a5aacd34ed",
   "metadata": {},
   "outputs": [],
   "source": []
  }
 ],
 "metadata": {
  "kernelspec": {
   "display_name": "Python 3 (ipykernel)",
   "language": "python",
   "name": "python3"
  },
  "language_info": {
   "codemirror_mode": {
    "name": "ipython",
    "version": 3
   },
   "file_extension": ".py",
   "mimetype": "text/x-python",
   "name": "python",
   "nbconvert_exporter": "python",
   "pygments_lexer": "ipython3",
   "version": "3.11.4"
  }
 },
 "nbformat": 4,
 "nbformat_minor": 5
}
