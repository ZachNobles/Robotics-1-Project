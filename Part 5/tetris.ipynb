{
 "cells": [
  {
   "cell_type": "code",
   "execution_count": null,
   "metadata": {
    "vscode": {
     "languageId": "plaintext"
    }
   },
   "outputs": [],
   "source": [
    "import numpy as np\n",
    "from scipy.spatial.transform import Rotation as R\n",
    "\n",
    "def rotx(theta):\n",
    "    return R.from_euler('x', theta, degrees=True).as_matrix()\n",
    "\n",
    "def roty(theta):\n",
    "    return R.from_euler('y', theta, degrees=True).as_matrix()\n",
    "\n",
    "def rotz(theta):\n",
    "    return R.from_euler('z', theta, degrees=True).as_matrix()\n",
    "\n",
    "def fwdkin_Dofbot(q):\n",
    "    ex = np.array([1, 0, 0])\n",
    "    ey = np.array([0, 1, 0])\n",
    "    ez = np.array([0, 0, 1])\n",
    "\n",
    "    l0 = 0.061  # base to servo 1\n",
    "    l1 = 0.0435  # servo 1 to servo 2\n",
    "    l2 = 0.08285  # servo 2 to servo 3\n",
    "    l3 = 0.08285  # servo 3 to servo 4\n",
    "    l4 = 0.07385  # servo 4 to servo 5\n",
    "    l5 = 0.05457  # servo 5 to gripper\n",
    "\n",
    "    R01 = rotz(q[0])  # rotation between base frame and 1 frame\n",
    "    R12 = roty(-q[1])  # rotation between 1 and 2 frames\n",
    "    R23 = roty(-q[2])  # rotation between 2 and 3 frames\n",
    "    R34 = roty(-q[3])  # rotation between 3 and 4 frames\n",
    "    R45 = rotx(-q[4])  # rotation between 4 and 5 frames\n",
    "    R5T = roty(0)  # the tool frame is defined to be the same as frame 5\n",
    "\n",
    "    # Set up the position vectors between subsequent frames\n",
    "    P01 = (l0 + l1) * ez  # translation between base frame and 1 frame in base frame\n",
    "    P12 = np.zeros(3)  # translation between 1 and 2 frame in 1 frame\n",
    "    P23 = l2 * ex  # translation between 2 and 3 frame in 2 frame\n",
    "    P34 = -l3 * ez  # translation between 3 and 4 frame in 3 frame\n",
    "    P45 = np.zeros(3)  # translation between 4 and 5 frame in 4 frame\n",
    "    P5T = -(l4 + l5) * ex  # translation between 5 and tool frame in 5 frame\n",
    "\n",
    "    # Calculate Rot and Pot\n",
    "    # Rot is a sequence of rotations\n",
    "    Rot = R01 @ R12 @ R23 @ R34 @ R45 @ R5T  # Use @ for matrix multiplication\n",
    "    # Pot is a combination of the position vectors.\n",
    "    Pot = P01 + R01 @ (P12 + R12 @ (P23 + R23 @ (P34 + R34 @ (P45 + R45 @ P5T))))\n",
    "\n",
    "    return Rot, Pot\n",
    "\n",
    "def rotm2eul(R):\n",
    "    if R.shape != (3, 3):\n",
    "        raise ValueError(\"Input must be a 3x3 rotation matrix.\")\n",
    "\n",
    "    sy = np.sqrt(R[0, 0] * R[0, 0] + R[1, 0] * R[1, 0])\n",
    "\n",
    "    singular = sy < 1e-6  # Check for singularity\n",
    "    if not singular:\n",
    "        x = np.arctan2(R[2, 1], R[2, 2])\n",
    "        y = np.arctan2(-R[2, 0], sy)\n",
    "        z = np.arctan2(R[1, 0], R[0, 0])\n",
    "    else:\n",
    "        x = np.arctan2(-R[1, 2], R[1, 1])\n",
    "        y = np.arctan2(-R[2, 0], sy)\n",
    "        z = 0\n",
    "\n",
    "    return np.array([x, y, z])\n",
    "\n",
    "def wrap_to_180(angle):\n",
    "    return (angle + 180) % 360 - 180\n",
    "\n",
    "\n",
    "def getPath(start, end):\n",
    "    # Initial joint configuration in degrees\n",
    "    qstart = np.array(start)\n",
    "    # Final joint configuration in degrees\n",
    "    qend = np.array(end)\n",
    "\n",
    "    N = 250  # Number of sample points along the path\n",
    "    lambda_vals = np.linspace(0, 1, N)  # Path variable from 0 to 1\n",
    "\n",
    "    # Pre-allocate space for variables\n",
    "    q = np.zeros((5, N))  # q(lambda)\n",
    "    qset = list()\n",
    "    Rot = np.zeros((3, 3, N))  # Rot(lambda)\n",
    "    eulerot = np.zeros((3, N))  # Rot as Euler angles\n",
    "    Pot = np.zeros((3, N))  # Pot(lambda)\n",
    "\n",
    "    for ii in range(N):\n",
    "        q[:, ii] = (1 - lambda_vals[ii]) * qstart + lambda_vals[ii] * qend  # Create q(lambda)\n",
    "        Rot[:, :, ii], Pot[:, ii] = fwdkin_Dofbot(q[:, ii])\n",
    "        eulerot[:, ii] = wrap_to_180(rotm2eul(Rot[:, :, ii]) * 180 / np.pi)  # Convert to degrees\n",
    "\n",
    "    # Print the joint positions\n",
    "    for i in range(N):\n",
    "        qcurrent=[round(angle) for angle in q[:, i]]\n",
    "        #print(f'λ={lambda_vals[i]:.3f}, q={qcurrent}')\n",
    "        qset.append(qcurrent)\n",
    "\n",
    "\n",
    "    # remove duplicates so the motion is smooth\n",
    "    qset = [arr for i, arr in enumerate(qset) if arr not in qset[:i]]\n",
    "    qset = [[int(round(x)) for x in s] for s in qset]\n",
    "    return qset"
   ]
  },
  {
   "cell_type": "code",
   "execution_count": null,
   "metadata": {
    "vscode": {
     "languageId": "plaintext"
    }
   },
   "outputs": [],
   "source": [
    "#!/usr/bin/env python3\n",
    "#coding=utf-8\n",
    "import time\n",
    "from Arm_Lib import Arm_Device\n",
    "# Create robot arm object\n",
    "Arm = Arm_Device()\n",
    "time.sleep(.1)\n",
    "for i in range(3):\n",
    "    Arm.Arm_RGB_set(255, 255, 255)\n",
    "    time.sleep(.25)\n",
    "    Arm.Arm_RGB_set(0,0, 0)\n",
    "    time.sleep(.25)\n",
    "time.sleep(1)"
   ]
  },
  {
   "cell_type": "code",
   "execution_count": null,
   "metadata": {
    "vscode": {
     "languageId": "plaintext"
    }
   },
   "outputs": [],
   "source": [
    "# Define the function of clamping building blocks, enable=1：clamp，=0：release\n",
    "def arm_clamp_block(enable, careful=False):\n",
    "    t = 400\n",
    "    if careful:\n",
    "        t = 1000\n",
    "    if enable == 0:\n",
    "        Arm.Arm_serial_servo_write(6, 60, t)\n",
    "    else:\n",
    "        Arm.Arm_serial_servo_write(6, 150, t)\n",
    "        time.sleep(0.5)\n",
    "        \n",
    "# Define the mobile robot arm function and control the movement of servos No. 1-5 at the same time，p=[S1,S2,S3,S4,S5]\n",
    "def arm_move(p, s_time = 500):\n",
    "    for i in range(5):\n",
    "        id = i + 1\n",
    "        if id == 5:\n",
    "            time.sleep(.1)\n",
    "            Arm.Arm_serial_servo_write(id, p[i], int(s_time*1.2))\n",
    "        else :\n",
    "            Arm.Arm_serial_servo_write(id, p[i], s_time)\n",
    "            time.sleep(.01)\n",
    "            time.sleep(s_time/1000)\n",
    "# Robotic arm moves up\n",
    "def arm_move_up():\n",
    "    Arm.Arm_serial_servo_write(2, 90, 1500)\n",
    "    Arm.Arm_serial_servo_write(3, 90, 1500)\n",
    "    Arm.Arm_serial_servo_write(4, 90, 1500)\n",
    "    time.sleep(.1)\n",
    "    \n",
    "    \n",
    "def move(start, end):\n",
    "    J6 = Arm.Arm_serial_servo_read(6)\n",
    "    path = getPath(start, end)\n",
    "    Arm.Arm_serial_servo_write6(*start, J6, 500)\n",
    "    time.sleep(0.5)\n",
    "    for i, joint_set in enumerate(path):\n",
    "        Arm.Arm_serial_servo_write6(*joint_set, J6, 2000)"
   ]
  },
  {
   "cell_type": "code",
   "execution_count": null,
   "metadata": {
    "vscode": {
     "languageId": "plaintext"
    }
   },
   "outputs": [],
   "source": [
    "p = {\n",
    "    \"standby\": [90, 130, 0, 0, 90],\n",
    "    \"top\": [90, 80, 50, 50, 270],\n",
    "    \"stack0\": [90, 19, 13, 138, 270],\n",
    "    \"stack1\": [90, 18, 12, 150, 270],\n",
    "    \"stack2\": [90, 36, 5, 139, 270],\n",
    "    \"stack3\": [90, 50, 5, 125, 270],\n",
    "    \"blue\": [50, 0, 15, 160, 270]\n",
    "}\n",
    "\n",
    "\n",
    "blocks = {\n",
    "    0: [\n",
    "        [ [-0.00, -0.00, -1.00],\n",
    "            [-0.71, 0.71, 0.00],\n",
    "            [0.71, 0.71, -0.00] ],\n",
    "        [[0.0], [0.25], [0.05]]\n",
    "    ]\n",
    "    \n",
    "}"
   ]
  },
  {
   "cell_type": "code",
   "execution_count": null,
   "metadata": {
    "vscode": {
     "languageId": "plaintext"
    }
   },
   "outputs": [],
   "source": [
    "# Let the robotic arm move to a position ready to grab\n",
    "arm_clamp_block(0)\n",
    "arm_move(p[\"standby\"], 1000)\n",
    "time.sleep(1)\n",
    "Arm.Arm_RGB_set(0, 255, 0)"
   ]
  },
  {
   "cell_type": "code",
   "execution_count": null,
   "metadata": {
    "vscode": {
     "languageId": "plaintext"
    }
   },
   "outputs": [],
   "source": [
    "arm_clamp_block(0)"
   ]
  },
  {
   "cell_type": "code",
   "execution_count": null,
   "metadata": {
    "vscode": {
     "languageId": "plaintext"
    }
   },
   "outputs": [],
   "source": [
    "arm_move(p[\"top\"], 1000)"
   ]
  },
  {
   "cell_type": "code",
   "execution_count": null,
   "metadata": {
    "vscode": {
     "languageId": "plaintext"
    }
   },
   "outputs": [],
   "source": [
    "move(p[\"top\"], p[\"blue\"])"
   ]
  },
  {
   "cell_type": "code",
   "execution_count": null,
   "metadata": {
    "vscode": {
     "languageId": "plaintext"
    }
   },
   "outputs": [],
   "source": [
    "arm_clamp_block(1)\n",
    "move(p[\"blue\"], p[\"top\"])\n",
    "time.sleep(2)\n",
    "move(p[\"top\"], p[\"stack0\"])\n",
    "time.sleep(4)\n",
    "arm_clamp_block(0)\n",
    "time.sleep(1)\n",
    "arm_move(p[\"top\"], 1000)"
   ]
  },
  {
   "cell_type": "code",
   "execution_count": null,
   "metadata": {
    "vscode": {
     "languageId": "plaintext"
    }
   },
   "outputs": [],
   "source": [
    "move(p[\"top\"], p[\"blue\"])"
   ]
  },
  {
   "cell_type": "code",
   "execution_count": null,
   "metadata": {
    "vscode": {
     "languageId": "plaintext"
    }
   },
   "outputs": [],
   "source": [
    "arm_clamp_block(1)\n",
    "move(p[\"blue\"], p[\"top\"])\n",
    "time.sleep(2)\n",
    "move(p[\"top\"], p[\"stack1\"])\n",
    "time.sleep(4)\n",
    "arm_clamp_block(0)\n",
    "time.sleep(1)\n",
    "arm_move(p[\"top\"], 1000)"
   ]
  },
  {
   "cell_type": "code",
   "execution_count": null,
   "metadata": {
    "vscode": {
     "languageId": "plaintext"
    }
   },
   "outputs": [],
   "source": [
    "move(p[\"top\"], p[\"blue\"])"
   ]
  },
  {
   "cell_type": "code",
   "execution_count": null,
   "metadata": {
    "vscode": {
     "languageId": "plaintext"
    }
   },
   "outputs": [],
   "source": [
    "arm_clamp_block(1)\n",
    "move(p[\"blue\"], p[\"top\"])\n",
    "time.sleep(2)\n",
    "move(p[\"top\"], p[\"stack2\"])\n",
    "time.sleep(4)\n",
    "arm_clamp_block(0)\n",
    "time.sleep(1)\n",
    "arm_move(p[\"top\"], 1000)"
   ]
  },
  {
   "cell_type": "code",
   "execution_count": null,
   "metadata": {
    "vscode": {
     "languageId": "plaintext"
    }
   },
   "outputs": [],
   "source": [
    "move(p[\"top\"], p[\"blue\"])"
   ]
  },
  {
   "cell_type": "code",
   "execution_count": null,
   "metadata": {
    "vscode": {
     "languageId": "plaintext"
    }
   },
   "outputs": [],
   "source": [
    "arm_clamp_block(1)\n",
    "move(p[\"blue\"], p[\"top\"])\n",
    "time.sleep(2)\n",
    "move(p[\"top\"], p[\"stack3\"])\n",
    "time.sleep(4)\n",
    "arm_clamp_block(0)\n",
    "time.sleep(1)\n",
    "arm_move(p[\"top\"], 1000)"
   ]
  }
 ],
 "metadata": {
  "language_info": {
   "name": "python"
  }
 },
 "nbformat": 4,
 "nbformat_minor": 2
}
