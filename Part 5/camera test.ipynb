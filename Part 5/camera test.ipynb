{
 "cells": [
  {
   "cell_type": "code",
   "execution_count": null,
   "id": "87313353-9396-4ab9-856e-679f99f9c583",
   "metadata": {
    "tags": []
   },
   "outputs": [],
   "source": [
    "#!/usr/bin/env python3\n",
    "#coding=utf-8\n",
    "import time\n",
    "from Arm_Lib import Arm_Device\n",
    "# Create robot arm object\n",
    "Arm = Arm_Device()\n",
    "time.sleep(.1)\n",
    "Arm.Arm_RGB_set(255, 255, 255)\n",
    "time.sleep(.25)\n",
    "Arm.Arm_RGB_set(0,0, 0)\n",
    "time.sleep(.25)\n",
    "Arm.Arm_RGB_set(255, 255, 255)\n",
    "time.sleep(.25)\n",
    "Arm.Arm_RGB_set(0,0, 0)\n",
    "time.sleep(.25)\n",
    "Arm.Arm_RGB_set(255, 255, 255)\n",
    "time.sleep(1)"
   ]
  },
  {
   "cell_type": "code",
   "execution_count": null,
   "id": "6f0f09f9",
   "metadata": {},
   "outputs": [],
   "source": [
    "import cv2\n",
    "import ipywidgets.widgets as widgets\n",
    "import threading\n",
    "image_widget = widgets.Image(format='jpeg', width=600, height=500) #Set up the camera display component\n",
    "display(image_widget) #Show camera components\n",
    "\n",
    "\n",
    "#bgr8 to jpeg format\n",
    "import enum\n",
    "import cv2\n",
    "def bgr8_to_jpeg(value, quality=75):\n",
    "    return bytes(cv2.imencode('.jpg', value)[1])\n",
    "\n",
    "def monitor():\n",
    "    while True:\n",
    "        image = cv2.VideoCapture(1) #open camera\n",
    "        ret, frame = image.read()\n",
    "        try:\n",
    "            image_widget.value = bgr8_to_jpeg(frame)\n",
    "        except:\n",
    "            time.sleep(0.1)"
   ]
  },
  {
   "cell_type": "code",
   "execution_count": null,
   "id": "d79a5050",
   "metadata": {},
   "outputs": [],
   "source": [
    "camera_thread = threading.Thread(target=monitor)\n",
    "camera_thread.start()"
   ]
  },
  {
   "cell_type": "code",
   "execution_count": null,
   "id": "afd96d46",
   "metadata": {},
   "outputs": [],
   "source": [
    "# Define the function of clamping building blocks, enable=1：clamp，=0：release\n",
    "def arm_clamp_block(enable, careful=False):\n",
    "    t = 400\n",
    "    if careful:\n",
    "        t = 1000\n",
    "    if enable == 0:\n",
    "        Arm.Arm_serial_servo_write(6, 60, t)\n",
    "    else:\n",
    "        Arm.Arm_serial_servo_write(6, 150, t)\n",
    "        time.sleep(0.5)\n",
    "        \n",
    "# Define the mobile robot arm function and control the movement of servos No. 1-5 at the same time，p=[S1,S2,S3,S4,S5]\n",
    "def arm_move(p, s_time = 500):\n",
    "    for i in range(5):\n",
    "        id = i + 1\n",
    "        if id == 5:\n",
    "            time.sleep(.1)\n",
    "            Arm.Arm_serial_servo_write(id, p[i], int(s_time*1.2))\n",
    "        else :\n",
    "            Arm.Arm_serial_servo_write(id, p[i], s_time)\n",
    "            time.sleep(.01)\n",
    "            time.sleep(s_time/1000)\n",
    "# Robotic arm moves up\n",
    "def arm_move_up():\n",
    "    Arm.Arm_serial_servo_write(2, 90, 1500)\n",
    "    Arm.Arm_serial_servo_write(3, 90, 1500)\n",
    "    Arm.Arm_serial_servo_write(4, 90, 1500)\n",
    "    time.sleep(.1)\n",
    "    \n",
    "    \n",
    "def move(start, end):\n",
    "    J6 = Arm.Arm_serial_servo_read(6)\n",
    "    path = getPath(start, end)\n",
    "    Arm.Arm_serial_servo_write6(*start, J6, 500)\n",
    "    time.sleep(0.5)\n",
    "    for i, joint_set in enumerate(path):\n",
    "        Arm.Arm_serial_servo_write6(*joint_set, J6, 2000)"
   ]
  },
  {
   "cell_type": "code",
   "execution_count": null,
   "id": "4d940288",
   "metadata": {},
   "outputs": [],
   "source": [
    "p = {\n",
    "    \"standby\": [90, 130, 0, 0, 90],\n",
    "    \"top\": [90, 80, 50, 50, 270],\n",
    "    \"stack0\": [90, 19, 13, 138, 270],\n",
    "    \"stack1\": [90, 18, 12, 150, 270],\n",
    "    \"stack2\": [90, 36, 5, 139, 270],\n",
    "    \"stack3\": [90, 50, 5, 125, 270],\n",
    "    \"blue\": [50, 0, 15, 160, 270]\n",
    "}"
   ]
  },
  {
   "cell_type": "code",
   "execution_count": null,
   "id": "f7128988",
   "metadata": {},
   "outputs": [],
   "source": [
    "arm_move(p[\"standby\"], 1000)"
   ]
  }
 ],
 "metadata": {
  "kernelspec": {
   "display_name": "Python 3 (ipykernel)",
   "language": "python",
   "name": "python3"
  },
  "language_info": {
   "codemirror_mode": {
    "name": "ipython",
    "version": 3
   },
   "file_extension": ".py",
   "mimetype": "text/x-python",
   "name": "python",
   "nbconvert_exporter": "python",
   "pygments_lexer": "ipython3",
   "version": "3.11.4"
  }
 },
 "nbformat": 4,
 "nbformat_minor": 5
}
