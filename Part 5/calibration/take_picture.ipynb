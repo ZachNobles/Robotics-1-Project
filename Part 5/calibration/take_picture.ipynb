{
 "cells": [
  {
   "cell_type": "code",
   "execution_count": null,
   "metadata": {
    "vscode": {
     "languageId": "plaintext"
    }
   },
   "outputs": [],
   "source": [
    "import cv2\n",
    "import ipywidgets.widgets as widgets\n",
    "import threading\n",
    "import time\n",
    "image_widget = widgets.Image(format='jpeg', width=600, height=500) #Set up the camera display component\n",
    "display(image_widget) #Show camera components\n",
    "from PIL import Image \n",
    "import PIL \n",
    "\n",
    "\n",
    "#bgr8 to jpeg format\n",
    "import enum\n",
    "import cv2\n",
    "def bgr8_to_jpeg(value, quality=75):\n",
    "    return bytes(cv2.imencode('.jpg', value)[1])"
   ]
  },
  {
   "cell_type": "code",
   "execution_count": null,
   "metadata": {
    "vscode": {
     "languageId": "plaintext"
    }
   },
   "outputs": [],
   "source": [
    "image = cv2.VideoCapture(0) #open camera\n",
    "ret, frame = image.read()\n",
    "try:\n",
    "    image_widget.value = bgr8_to_jpeg(frame)\n",
    "    print(\"ok\")\n",
    "except Exception as e:\n",
    "    time.sleep(0.1)\n",
    "    print(e)"
   ]
  }
 ],
 "metadata": {
  "language_info": {
   "name": "python"
  }
 },
 "nbformat": 4,
 "nbformat_minor": 2
}
