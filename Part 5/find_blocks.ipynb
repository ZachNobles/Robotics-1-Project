{
 "cells": [
  {
   "cell_type": "code",
   "execution_count": null,
   "metadata": {
    "vscode": {
     "languageId": "plaintext"
    }
   },
   "outputs": [],
   "source": [
    "#!/usr/bin/env python3\n",
    "#coding=utf-8\n",
    "import time\n",
    "from Arm_Lib import Arm_Device\n",
    "# Create robot arm object\n",
    "Arm = Arm_Device()\n",
    "time.sleep(.1)\n",
    "for i in range(3):\n",
    "    Arm.Arm_RGB_set(255, 255, 255)\n",
    "    time.sleep(.25)\n",
    "    Arm.Arm_RGB_set(0,0, 0)\n",
    "    time.sleep(.25)\n",
    "time.sleep(1)"
   ]
  },
  {
   "cell_type": "code",
   "execution_count": null,
   "metadata": {
    "vscode": {
     "languageId": "plaintext"
    }
   },
   "outputs": [],
   "source": [
    "Arm.Arm_serial_servo_write6(90, 90, 90, 90, 90, 90, 2000)"
   ]
  },
  {
   "cell_type": "code",
   "execution_count": null,
   "metadata": {
    "vscode": {
     "languageId": "plaintext"
    }
   },
   "outputs": [],
   "source": [
    "Arm.Arm_serial_servo_write6(90, 130, 0, 0, 90, 90, 2000)"
   ]
  },
  {
   "cell_type": "code",
   "execution_count": null,
   "metadata": {
    "vscode": {
     "languageId": "plaintext"
    }
   },
   "outputs": [],
   "source": [
    "import numpy as np\n",
    "\n",
    "def get_colors(img):\n",
    "    color_map = {\n",
    "        \"red\": [[], []],\n",
    "        \"yellow\": [[], []],\n",
    "        \"green\": [[], []],\n",
    "        \"blue\": [[], []],\n",
    "    }\n",
    "    H = {}\n",
    "    S = {}\n",
    "    color_name={}\n",
    "    img = cv2.resize(img, (80, 60), )\n",
    "    # Convert color image to HSV\n",
    "    HSV = cv2.cvtColor(img, cv2.COLOR_BGR2HSV)\n",
    "    # Take out the H, S, and V values of each row and column in turn and put them into the container.\n",
    "    for i in range(0, 80):\n",
    "        for j in range(0, 60):\n",
    "            H[(j, i)] = HSV[j, i][0]\n",
    "            S[(j, i)] = HSV[j, i][1]\n",
    "            \n",
    "    precision = 4\n",
    "    \n",
    "    for point, hue in H.items():\n",
    "        \n",
    "        if hue >= 0 and hue <= 10:\n",
    "            color_map[\"red\"][0].append(point)\n",
    "            color_map[\"red\"][1].append(S[point])\n",
    "        elif hue >= 26 and hue <= 34:\n",
    "            color_map[\"yellow\"][0].append(point)\n",
    "        elif hue >= 35 and hue <= 100:\n",
    "            color_map[\"green\"][0].append(point)\n",
    "        elif hue >= 100 and hue <= 224:\n",
    "            color_map[\"blue\"][0].append(point)\n",
    "        \n",
    "    print(color_map)\n",
    "    \n",
    "    color_map[\"red\"] = (avg_red_x, avg_red_y)\n",
    "    \n",
    "    return color_map[\"red\"]"
   ]
  },
  {
   "cell_type": "code",
   "execution_count": null,
   "metadata": {
    "vscode": {
     "languageId": "plaintext"
    }
   },
   "outputs": [],
   "source": [
    "import cv2\n",
    "import ipywidgets.widgets as widgets\n",
    "import threading\n",
    "image_widget = widgets.Image(format='jpeg', width=600, height=500) #Set up the camera display component\n",
    "display(image_widget) #Show camera components\n",
    "\n",
    "\n",
    "#bgr8 to jpeg format\n",
    "#image is 640x480\n",
    "import enum\n",
    "import cv2\n",
    "def bgr8_to_jpeg(value, quality=75):\n",
    "    return bytes(cv2.imencode('.jpg', value)[1])\n",
    "\n",
    "def monitor():\n",
    "    image = cv2.VideoCapture(1) #open camera\n",
    "    if not image.isOpened():\n",
    "        print(\"couldn't open the camera\")\n",
    "        return\n",
    "    print(\"running\")\n",
    "    Arm.Arm_RGB_set(0, 255, 0)\n",
    "    while True:\n",
    "        ret, frame = image.read()\n",
    "        try:\n",
    "            red = get_colors(frame)\n",
    "            #print(red)\n",
    "            cv2.circle(frame, (round(red[0] * 8), round(red[1] * 8)), 3, (0, 0, 0), -1)\n",
    "            image_widget.value = bgr8_to_jpeg(frame)\n",
    "            Arm.Arm_RGB_set(0, 255, 0)\n",
    "            time.sleep(1)\n",
    "            return\n",
    "        except Exception as e:\n",
    "            Arm.Arm_RGB_set(255, 0, 0)\n",
    "            print(e)\n",
    "            \n",
    "        time.sleep(1)"
   ]
  },
  {
   "cell_type": "code",
   "execution_count": null,
   "metadata": {
    "vscode": {
     "languageId": "plaintext"
    }
   },
   "outputs": [],
   "source": [
    "camera_thread = threading.Thread(target=monitor)\n",
    "camera_thread.start()"
   ]
  }
 ],
 "metadata": {
  "language_info": {
   "name": "python"
  }
 },
 "nbformat": 4,
 "nbformat_minor": 2
}
