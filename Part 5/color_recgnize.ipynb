{
 "cells": [
  {
   "cell_type": "code",
   "execution_count": null,
   "metadata": {
    "vscode": {
     "languageId": "plaintext"
    }
   },
   "outputs": [],
   "source": [
    "#!/usr/bin/env python3\n",
    "#coding=utf-8\n",
    "import time\n",
    "from Arm_Lib import Arm_Device\n",
    "# Create robot arm object\n",
    "Arm = Arm_Device()\n",
    "time.sleep(.1)\n",
    "for i in range(3):\n",
    "    Arm.Arm_RGB_set(255, 255, 255)\n",
    "    time.sleep(.25)\n",
    "    Arm.Arm_RGB_set(0,0, 0)\n",
    "    time.sleep(.25)\n",
    "time.sleep(1)"
   ]
  },
  {
   "cell_type": "code",
   "execution_count": null,
   "metadata": {
    "vscode": {
     "languageId": "plaintext"
    }
   },
   "outputs": [],
   "source": [
    "#bgr8 to jpeg format\n",
    "import enum\n",
    "import cv2\n",
    "def bgr8_to_jpeg(value, quality=75):\n",
    "    return bytes(cv2.imencode('.jpg', value)[1])"
   ]
  },
  {
   "cell_type": "code",
   "execution_count": null,
   "metadata": {
    "vscode": {
     "languageId": "plaintext"
    }
   },
   "outputs": [],
   "source": [
    "#Camera component display\n",
    "import traitlets\n",
    "import ipywidgets.widgets as widgets\n",
    "import time\n",
    "# Thread function operation library\n",
    "import threading\n",
    "import inspect\n",
    "import ctypes\n",
    "origin_widget = widgets.Image(format='jpeg', width=320, height=240)\n",
    "#mask_widget = widgets.Image(format='jpeg',width=320, height=240)\n",
    "result_widget = widgets.Image(format='jpeg',width=320, height=240)\n",
    "# Create a horizontal box container to place image widgets next to each other\n",
    "image_container = widgets.HBox([origin_widget, result_widget])\n",
    "# image_container = widgets.Image(format='jpeg', width=600, height=500)\n",
    "display(image_container)"
   ]
  },
  {
   "cell_type": "code",
   "execution_count": null,
   "metadata": {
    "vscode": {
     "languageId": "plaintext"
    }
   },
   "outputs": [],
   "source": [
    "def get_color(img):\n",
    "    H = []\n",
    "    color_name={}\n",
    "    img = cv2.resize(img, (640, 480), )\n",
    "    # Convert color image to HSV\n",
    "    HSV = cv2.cvtColor(img, cv2.COLOR_BGR2HSV)\n",
    "    # Draw a rectangular frame\n",
    "    cv2.rectangle(img, (280, 180), (360, 260), (0, 255, 0), 2)\n",
    "    # Take out the H, S, and V values of each row and column in turn and put them into the container.\n",
    "    for i in range(280, 360):\n",
    "        for j in range(180, 260): H.append(HSV[j, i][0])\n",
    "    # Calculate the maximum and minimum values of H, S, and V respectively.\n",
    "    H_min = min(H);H_max = max(H)\n",
    "    # print(H_min,H_max)\n",
    "    # Judge color\n",
    "    if H_min >= 0 and H_max <= 10 or H_min >= 156 and H_max <= 180: color_name['name'] = 'red'\n",
    "    elif H_min >= 26 and H_max <= 34: color_name['name'] = 'yellow'\n",
    "    elif H_min >= 35 and H_max <= 100: color_name['name'] = 'green'\n",
    "    elif H_min >= 100 and H_max <= 224: color_name['name'] = 'blue'\n",
    "        \n",
    "    return img, color_name"
   ]
  },
  {
   "cell_type": "code",
   "execution_count": null,
   "metadata": {
    "vscode": {
     "languageId": "plaintext"
    }
   },
   "outputs": [],
   "source": [
    "import cv2\n",
    "import numpy as np\n",
    "import ipywidgets.widgets as widgets\n",
    "cap = cv2.VideoCapture(1)\n",
    "cap.set(3, 640)\n",
    "cap.set(4, 480)\n",
    "cap.set(5, 30) #Set frame rate\n",
    "cap.set(cv2.CAP_PROP_FOURCC, cv2.VideoWriter.fourcc('M', 'J', 'P', 'G'))\n",
    "# Red is selected by default, and the program will automatically switch colors based on the color detected in the box.\n",
    "# red interval\n",
    "color_lower = np.array([0, 43, 46])\n",
    "color_upper = np.array([10, 255, 255])\n",
    "\n",
    "\n",
    "def Color_Recognize():\n",
    "    while(1):\n",
    "\n",
    "        # get a frame and show Obtain video frames and convert them into HSV format.\n",
    "        # Use cvtColor() to convert BGR format into HSV format. The parameter is cv2.COLOR_BGR2HSV.\n",
    "\n",
    "        ret, frame = cap.read()\n",
    "        try:\n",
    "            frame, color_name = get_color(frame)\n",
    "        except:\n",
    "            continue\n",
    "        if len(color_name)==1:\n",
    "            global color_lower\n",
    "            global color_upper\n",
    "            if color_name['name'] == 'yellow':\n",
    "                color_lower = np.array([26, 43, 46])\n",
    "                color_upper = np.array([34, 255, 255])\n",
    "                Arm.Arm_RGB_set(255, 255, 0)\n",
    "            elif color_name['name'] == 'red':\n",
    "                color_lower = np.array([0, 43, 46])\n",
    "                color_upper = np.array([10, 255, 255])\n",
    "                Arm.Arm_RGB_set(255, 0, 0)\n",
    "            elif color_name['name'] == 'green':\n",
    "                color_lower = np.array([35, 43, 46])\n",
    "                color_upper = np.array([77, 255, 255])\n",
    "                Arm.Arm_RGB_set(0, 255, 0)\n",
    "            elif color_name['name'] == 'blue':\n",
    "                color_lower=np.array([100, 43, 46])\n",
    "                color_upper = np.array([124, 255, 255])\n",
    "                Arm.Arm_RGB_set(0, 0, 255)\n",
    "\n",
    "        # origin_widget.value = bgr8_to_jpeg(frame)\n",
    "        #cv2.imshow('Capture', frame)\n",
    "        # change to hsv model\n",
    "        # hsv = cv2.cvtColor(frame, cv2.COLOR_BGR2HSV)\n",
    "\n",
    "        # get mask Use the inRange() function and the upper and lower bounds of the blue range in the HSV model to obtain the mask. The blue part of the original\n",
    "        # video in the mask will be made white and the other parts black.\n",
    "        # mask = cv2.inRange(hsv, color_lower, color_upper)\n",
    "        #cv2.imshow('Mask', mask)\n",
    "        #mask_widget.value = bgr8_to_jpeg(mask)\n",
    "\n",
    "        # detect blue Perform a bitwise AND operation on the mask on the\n",
    "        # original video frame, and the white in the mask will be replaced with the real\n",
    "        # image:\n",
    "        # res = cv2.bitwise_and(frame, frame, mask=mask)\n",
    "        #cv2.imshow('Result', res)\n",
    "        # result_widget.value = bgr8_to_jpeg(res)\n",
    "        time.sleep(0.01)\n",
    "\n",
    "\n",
    "    cap.release()\n",
    "    #cv2.destroyAllWindows()\n",
    "\n"
   ]
  },
  {
   "cell_type": "code",
   "execution_count": null,
   "metadata": {
    "vscode": {
     "languageId": "plaintext"
    }
   },
   "outputs": [],
   "source": [
    "Color_Recognize()"
   ]
  }
 ],
 "metadata": {
  "language_info": {
   "name": "python"
  }
 },
 "nbformat": 4,
 "nbformat_minor": 2
}
