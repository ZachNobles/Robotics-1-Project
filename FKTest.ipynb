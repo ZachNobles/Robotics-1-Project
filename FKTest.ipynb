{
 "cells": [
  {
   "cell_type": "code",
   "execution_count": null,
   "id": "8c0aa745-343e-4682-ba13-a944d4b49f93",
   "metadata": {
    "tags": []
   },
   "outputs": [],
   "source": [
    "%load_ext autoreload\n",
    "%autoreload 2"
   ]
  },
  {
   "cell_type": "code",
   "execution_count": 3,
   "id": "d354e8d3-82bf-4ebd-8243-0a4eee76bf23",
   "metadata": {
    "tags": []
   },
   "outputs": [
    {
     "ename": "SyntaxError",
     "evalue": "closing parenthesis ']' does not match opening parenthesis '(' (3888503029.py, line 9)",
     "output_type": "error",
     "traceback": [
      "\u001b[1;36m  Cell \u001b[1;32mIn[3], line 9\u001b[1;36m\u001b[0m\n\u001b[1;33m    q = np.array([15, 45, 135, 45, 135]]).T\u001b[0m\n\u001b[1;37m                                       ^\u001b[0m\n\u001b[1;31mSyntaxError\u001b[0m\u001b[1;31m:\u001b[0m closing parenthesis ']' does not match opening parenthesis '('\n"
     ]
    }
   ],
   "source": [
    "from ForwardKinematics import testFK\n",
    "import numpy as np\n",
    "\n",
    "import time\n",
    "from Arm_Lib import Arm_Device\n",
    "\n",
    "\n",
    "# joint angle array\n",
    "q = np.array([[15, 45, 135, 45, 135]]).T\n",
    "run_on_arm = False # whether to just print or also command the arm\n",
    "\n",
    "# run test\n",
    "testFK(q)\n",
    "\n",
    "if run_on_arm:\n",
    "    arm = Arm_Device()\n",
    "    print(\"\\nmoving arm\")\n",
    "    time.sleep(1)\n",
    "    \n",
    "    Arm.Arm_RGB_set(255, 0, 0)\n",
    "    Arm.Arm_serial_servo_write6(*q, 90, 500)\n",
    "    Arm.Arm_RGB_set(0, 255, 0)\n",
    "    \n",
    "    "
   ]
  },
  {
   "cell_type": "code",
   "execution_count": null,
   "id": "34a82038-7bbd-4f88-bfbf-94a5aacd34ed",
   "metadata": {},
   "outputs": [],
   "source": []
  }
 ],
 "metadata": {
  "kernelspec": {
   "display_name": "Python 3 (ipykernel)",
   "language": "python",
   "name": "python3"
  },
  "language_info": {
   "codemirror_mode": {
    "name": "ipython",
    "version": 3
   },
   "file_extension": ".py",
   "mimetype": "text/x-python",
   "name": "python",
   "nbconvert_exporter": "python",
   "pygments_lexer": "ipython3",
   "version": "3.11.4"
  }
 },
 "nbformat": 4,
 "nbformat_minor": 5
}
