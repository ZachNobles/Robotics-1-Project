{
 "cells": [
  {
   "cell_type": "code",
   "execution_count": null,
   "metadata": {},
   "outputs": [],
   "source": [
    "%load_ext autoreload\n",
    "%autoreload 2"
   ]
  },
  {
   "cell_type": "code",
   "execution_count": null,
   "metadata": {},
   "outputs": [],
   "source": [
    "from ForwardKinematics import runFK\n",
    "import numpy as np\n",
    "\n",
    "import time\n",
    "from Arm_Lib import Arm_Device\n",
    "\n",
    "\n",
    "# joint angle array\n",
    "q = np.array([[90, 90, 90, 90, 90]]).T\n",
    "run_on_arm = True # whether to just print or also command the arm\n",
    "\n",
    "# run test\n",
    "flag = runFK(q)\n",
    "\n",
    "if run_on_arm and flag:\n",
    "    arm = Arm_Device()\n",
    "    print(\"\\nmoving arm\")\n",
    "    time.sleep(1)\n",
    "    \n",
    "    arm.Arm_RGB_set(255, 0, 0)\n",
    "    arm.Arm_serial_servo_write6(*q, 0, 1000)\n",
    "    time.sleep(1)\n",
    "    arm.Arm_RGB_set(0, 255, 0)\n",
    "else:\n",
    "    print(\"\\nran without moving arm\")\n",
    "    \n",
    "    "
   ]
  }
 ],
 "metadata": {
  "language_info": {
   "name": "python"
  }
 },
 "nbformat": 4,
 "nbformat_minor": 2
}
